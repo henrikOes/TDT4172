{
 "cells": [
  {
   "cell_type": "code",
   "execution_count": null,
   "id": "7d6c199d",
   "metadata": {},
   "outputs": [
    {
     "name": "stdout",
     "output_type": "stream",
     "text": [
      "[1, 2, 3, 4]\n"
     ]
    }
   ],
   "source": [
    "import pulp as p\n",
    "\n",
    "# Definer problemet\n",
    "model = p.LpProblem('HammersAndNails', p.LpMaximize)\n",
    "\n",
    "# Her skal du definere beslutningsvariablene\n",
    "\n",
    "# Eksempel:\n",
    "# x = p.LpVariable(\"x\", lowBound = 0)\n",
    "# y = p.LpVariable(\"y\", upBound = 10)\n",
    "\n",
    "# Her skal du legge til den linÃ¦re funksjonen som skal optimeres\n",
    "\n",
    "# Eksempel:\n",
    "# model += 3 * x + y\n",
    "\n",
    "# Her skal du legge til de lineÃ¦re ulikhetene som pÃ¥ oppfylles\n",
    "\n",
    "# Eksempel:\n",
    "# model += x + y <= 30\n",
    "\n",
    "# Print modellen\n",
    "print(model)\n",
    "\n",
    "# LÃ¸s det lineÃ¦re programmet\n",
    "status = model.solve()\n",
    "\n",
    "# Print lÃ¸sningen\n",
    "\n",
    "# Print verdien til en beslutningsvariabel:\n",
    "# print(p.value(x))\n",
    "\n",
    "# Print optimal verdi:\n",
    "print(p.value(model.objective))"
   ]
  }
 ],
 "metadata": {
  "kernelspec": {
   "display_name": ".venv",
   "language": "python",
   "name": "python3"
  },
  "language_info": {
   "codemirror_mode": {
    "name": "ipython",
    "version": 3
   },
   "file_extension": ".py",
   "mimetype": "text/x-python",
   "name": "python",
   "nbconvert_exporter": "python",
   "pygments_lexer": "ipython3",
   "version": "3.12.3"
  }
 },
 "nbformat": 4,
 "nbformat_minor": 5
}
